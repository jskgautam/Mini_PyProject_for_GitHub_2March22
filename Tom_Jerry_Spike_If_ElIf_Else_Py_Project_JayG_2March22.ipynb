{
  "nbformat": 4,
  "nbformat_minor": 0,
  "metadata": {
    "colab": {
      "name": "Tom_Jerry_Spike--If_ElIf_Else_Py_Project_JayG_2March22.ipynb",
      "provenance": [],
      "collapsed_sections": [],
      "toc_visible": true,
      "authorship_tag": "ABX9TyMDPyxbVD+mYm9Vw3EBqOYE",
      "include_colab_link": true
    },
    "kernelspec": {
      "name": "python3",
      "display_name": "Python 3"
    },
    "language_info": {
      "name": "python"
    }
  },
  "cells": [
    {
      "cell_type": "markdown",
      "metadata": {
        "id": "view-in-github",
        "colab_type": "text"
      },
      "source": [
        "<a href=\"https://colab.research.google.com/github/jskgautam/Mini_PyProject_for_GitHub_2March22/blob/main/Tom_Jerry_Spike_If_ElIf_Else_Py_Project_JayG_2March22.ipynb\" target=\"_parent\"><img src=\"https://colab.research.google.com/assets/colab-badge.svg\" alt=\"Open In Colab\"/></a>"
      ]
    },
    {
      "cell_type": "code",
      "source": [
        "import random\n",
        "\n",
        "## Tom (cat), jerry(mouse) and spike(bulldog).\n",
        "\n",
        "\n",
        "print(\"\\033[0;37;40m Welcome to the game!!\")\n",
        "print(\"\\033[0;37;40m Rules of the Game: 1. Tie if selections are same. 2. spike beats tom, 3. tom beats jerry, 4. jerry beats spike. \")\n",
        "print(\"\")\n",
        "\n",
        "choice = (\"yes\", \"no\")\n",
        "game_continue = \"yes\"\n",
        "\n",
        "while game_continue == \"yes\":\n",
        "\n",
        "    # Options for computer. We used tuple, because we are not changing the values. Tuples are Immutable.\n",
        "    options = (\"spike\", \"tom\", \"jerry\")\n",
        "\n",
        "    # option for computers from the tuple.\n",
        "    options_for_computer = options[random.randint(0, 2)] # interger: 0, 1 or 2. accordingly value will be taken from the tuple.\n",
        "    #print(\"Selection by Computer: \", options_for_computer.capitalize())\n",
        "\n",
        "    # selection for user.\n",
        "    user_selection = input(f\"Hello User please enter one option from {options}: \")\n",
        "    print(\"\")\n",
        "    print(\"User's entry: \", user_selection.capitalize())\n",
        "\n",
        "    # Code for winning. Rule: 1. Tie if both same. 2. Rock beats Scissor, 3. Scissor beats paper, 4. paper beats rock.\n",
        "\n",
        "    if user_selection.lower() == options_for_computer: # lower() used to have lower case word only.\n",
        "        print(f\"Selection by computer: {options_for_computer} \\nResult: Tie, You can try (run the code) again!\")\n",
        "    elif user_selection.lower() == \"spike\":\n",
        "        if options_for_computer == \"tom\":\n",
        "            print(f\"Selection by computer: {options_for_computer.capitalize()} \\nResult: The user beats the computer, You can try (run the code) again!\")\n",
        "        else:\n",
        "            print(f\"Selection by computer: {options_for_computer.capitalize()} \\nResult: The computer beats the user, Jerry is powerful now. You can try (run the code) again!\")\n",
        "\n",
        "    elif user_selection.lower() == \"tom\":\n",
        "        if options_for_computer == \"jerry\":\n",
        "            print(f\"Selection by computer: {options_for_computer.capitalize()} \\nResult: The user beats the computer, You can try (run the code) again!\")\n",
        "        else:\n",
        "            print(f\"Selection by computer: {options_for_computer.capitalize()} \\nResult: The computer beats the user, You can try (run the code) again!\")\n",
        "\n",
        "    elif user_selection.lower() == \"jerry\":\n",
        "        if options_for_computer == \"spike\":\n",
        "            print(f\"Selection by computer: {options_for_computer.capitalize()} \\nResult: The user beats the computer, Jerry is powerful now. You can try (run the code) again!\")\n",
        "        else:\n",
        "            print(f\"Selection by computer: {options_for_computer.capitalize()} \\nResult: The computer beats the user. You can try (run the code) again!\")\n",
        "    else:\n",
        "        print(f\"Selection by computer: {options_for_computer.capitalize()} \\nInvalid input by User, Please enter valid input, You can try (run the code) again!\")\n",
        "\n",
        "    \n",
        "    game_continue = (input(\"\\033[0;37;40m Do you want to contiue- please write yes or no: \")).lower()\n",
        "    if game_continue not in choice:\n",
        "        print(\"\\033[0;37;40m Invalid input, please enter either 'yes' or 'no': \")\n",
        "        game_continue = (input(\"\\033[0;37;40m Do you want to contiue- please write yes or no: \")).lower()\n",
        "    print()\n",
        "    \n",
        "print(\"\\033[0;37;40m Thank you for playing the game. Have a nice day!\")"
      ],
      "metadata": {
        "colab": {
          "base_uri": "https://localhost:8080/"
        },
        "id": "Fe5-bgHVpJV1",
        "outputId": "9af232e7-5130-4f8f-80cd-e5c5cab8264b"
      },
      "execution_count": null,
      "outputs": [
        {
          "output_type": "stream",
          "name": "stdout",
          "text": [
            "\u001b[0;37;40m Welcome to the game!!\n",
            "\u001b[0;37;40m Rules of the Game: 1. Tie if selections are same. 2. spike beats tom, 3. tom beats jerry, 4. jerry beats spike. \n",
            "\n",
            "Hello User please enter one option from ('spike', 'tom', 'jerry'): tom\n",
            "\n",
            "User's entry:  Tom\n",
            "Selection by computer: Jerry \n",
            "Result: The user beats the computer, You can try (run the code) again!\n",
            "\u001b[0;37;40m Do you want to contiue- please write yes or no: yes\n",
            "\n",
            "Hello User please enter one option from ('spike', 'tom', 'jerry'): spike\n",
            "\n",
            "User's entry:  Spike\n",
            "Selection by computer: Jerry \n",
            "Result: The computer beats the user, Jerry is powerful now. You can try (run the code) again!\n",
            "\u001b[0;37;40m Do you want to contiue- please write yes or no: no\n",
            "\n",
            "\u001b[0;37;40m Thank you for playing the game. Have a nice day!\n"
          ]
        }
      ]
    },
    {
      "cell_type": "code",
      "source": [
        ""
      ],
      "metadata": {
        "id": "QuEEG_p5pPiS"
      },
      "execution_count": null,
      "outputs": []
    }
  ]
}