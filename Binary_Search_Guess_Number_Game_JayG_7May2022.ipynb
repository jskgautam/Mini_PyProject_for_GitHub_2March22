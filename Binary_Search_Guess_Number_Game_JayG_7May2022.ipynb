{
 "cells": [
  {
   "cell_type": "markdown",
   "metadata": {},
   "source": [
    "<b> Author: Jay Gautam, Darmstadt Germany, 7th March 2022"
   ]
  },
  {
   "cell_type": "markdown",
   "metadata": {},
   "source": [
    "# Project to guess the numbers - Binary search algorithm!\n",
    "1. User will choose an integer between two numbers. And the computer will guess that number by asking questions to user.\n",
    "2. Concepts: While loop, Binary search algorithm."
   ]
  },
  {
   "cell_type": "markdown",
   "metadata": {},
   "source": [
    "# Binary search algorithm:\n",
    "1. Algorithms initial guess is the middle number of the range (lower and upper bound). Then the computer ask the user if the guessed number is high or low or correct with respect to chosen number by user. After every guess the computer will eliminate the search either lower half or upper half of total range. Based on the users reply the computer will guess another number and continue asking for users comment.\n",
    "2. As the number of iteration is not known to reach to the correct number so we will use while loop (not the for loop)"
   ]
  },
  {
   "cell_type": "code",
   "execution_count": 22,
   "metadata": {},
   "outputs": [
    {
     "name": "stdout",
     "output_type": "stream",
     "text": [
      "\n",
      "Please choose any integer between 0 and 500 and keep it in your memory!\n",
      "I (computer) will try to guess your chosen number, please help me answering the following!\n",
      "\n",
      "Computer's guessed number is 250 !\n",
      "    Please enter 1: if computer's guessed number 250 is lower than what you chose!\n",
      "    Please enter 2: if computer's guessed number 250 is higher than what you chose!\n",
      "    Please enter 3: if computer's guessed number 250 is correct!\n",
      "Please enter your response: 1\n",
      "\n",
      "Computer's guessed number is 375 !\n",
      "    Please enter 1: if computer's guessed number 375 is lower than what you chose!\n",
      "    Please enter 2: if computer's guessed number 375 is higher than what you chose!\n",
      "    Please enter 3: if computer's guessed number 375 is correct!\n",
      "Please enter your response: 3\n",
      "\n",
      "The correct number is 375 !\n",
      "Haha.. I found it in 2 guesses!!\n"
     ]
    }
   ],
   "source": [
    "lower_bound = 0\n",
    "higher_bound = 500\n",
    "guessed_number = (lower_bound + higher_bound) // 2  # middle point of the interval.\n",
    "\n",
    "print(f\"\\nPlease choose any integer between {lower_bound} and {higher_bound} and keep it in your memory!\")\n",
    "print(\"I (computer) will try to guess your chosen number, please help me answering the following!\")\n",
    "\n",
    "search_status = True # to continue or break the while loop\n",
    "no_iterations_taken = 0 # to find the number of iterations.\n",
    "n_choice = [1, 2, 3]\n",
    "\n",
    "while search_status:\n",
    "    no_iterations_taken += 1\n",
    "    print(\"\\nComputer's guessed number is\", guessed_number, \"!\")\n",
    "    print(\"    Please enter 1: if computer's guessed number\",guessed_number, \"is lower than what you chose!\")\n",
    "    print(\"    Please enter 2: if computer's guessed number\",guessed_number, \"is higher than what you chose!\")\n",
    "    print(\"    Please enter 3: if computer's guessed number\",guessed_number, \"is correct!\")\n",
    "    user_input = int(input(\"Please enter your response: \"))\n",
    "    if user_input not in n_choice:\n",
    "        print(\"Invalid number, please enter the numbers from the list \", n_choice)\n",
    "    elif user_input == 1:\n",
    "        lower_bound = guessed_number\n",
    "    elif user_input == 2:\n",
    "        higher_bound = guessed_number\n",
    "    elif user_input == 3:\n",
    "        print(\"\\nThe correct number is\", guessed_number, \"!\")\n",
    "        if no_iterations_taken == 1:\n",
    "            print(\"Haha.. I found it only in\", no_iterations_taken, \"guess!!\") # Singular\n",
    "        else:\n",
    "            print(\"Haha.. I found it in\", no_iterations_taken, \"guesses!!\") # Plural\n",
    "        search_status = False  # statement to exit the while loop.\n",
    "    guessed_number = (lower_bound + higher_bound) // 2  # Update the computer's guessed number."
   ]
  },
  {
   "cell_type": "code",
   "execution_count": null,
   "metadata": {},
   "outputs": [],
   "source": []
  }
 ],
 "metadata": {
  "kernelspec": {
   "display_name": "Python 3",
   "language": "python",
   "name": "python3"
  },
  "language_info": {
   "codemirror_mode": {
    "name": "ipython",
    "version": 3
   },
   "file_extension": ".py",
   "mimetype": "text/x-python",
   "name": "python",
   "nbconvert_exporter": "python",
   "pygments_lexer": "ipython3",
   "version": "3.8.3"
  },
  "toc": {
   "base_numbering": 1,
   "nav_menu": {},
   "number_sections": true,
   "sideBar": true,
   "skip_h1_title": false,
   "title_cell": "Table of Contents",
   "title_sidebar": "Contents",
   "toc_cell": false,
   "toc_position": {},
   "toc_section_display": true,
   "toc_window_display": false
  }
 },
 "nbformat": 4,
 "nbformat_minor": 4
}
