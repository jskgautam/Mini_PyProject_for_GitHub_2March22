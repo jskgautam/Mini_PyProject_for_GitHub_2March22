{
 "cells": [
  {
   "cell_type": "markdown",
   "metadata": {},
   "source": [
    "# No need to import libraries one by one. One Import will import almost another 100 libraries. "
   ]
  },
  {
   "cell_type": "markdown",
   "metadata": {},
   "source": [
    "Author: Jay Gautam, Darmstadt, Germany, 3rd March 2022.\n",
    "Courtsey/credit: To the owner of pyforest library"
   ]
  },
  {
   "cell_type": "code",
   "execution_count": 1,
   "metadata": {
    "scrolled": true
   },
   "outputs": [
    {
     "name": "stdout",
     "output_type": "stream",
     "text": [
      "Requirement already satisfied: pyforest in c:\\programdata\\anaconda3\\lib\\site-packages (1.1.0)Note: you may need to restart the kernel to use updated packages.\n",
      "\n"
     ]
    }
   ],
   "source": [
    "pip install pyforest"
   ]
  },
  {
   "cell_type": "code",
   "execution_count": 4,
   "metadata": {},
   "outputs": [
    {
     "data": {
      "text/plain": [
       "['import sys',\n",
       " 'from sklearn.manifold import TSNE',\n",
       " 'import matplotlib.pyplot as plt',\n",
       " 'import dash',\n",
       " 'from sklearn.feature_extraction.text import TfidfVectorizer',\n",
       " 'from sklearn import svm',\n",
       " 'from scipy import signal as sg',\n",
       " 'from PIL import Image',\n",
       " 'from dask import dataframe as dd',\n",
       " 'from sklearn.ensemble import RandomForestClassifier',\n",
       " 'from sklearn.ensemble import RandomForestRegressor',\n",
       " 'import bokeh',\n",
       " 'from sklearn.preprocessing import StandardScaler',\n",
       " 'import matplotlib as mpl',\n",
       " 'import spacy',\n",
       " 'from xlrd import open_workbook',\n",
       " 'from sklearn.linear_model import Ridge',\n",
       " 'from fbprophet import Prophet',\n",
       " 'from sklearn.impute import SimpleImputer',\n",
       " 'import lightgbm as lgb',\n",
       " 'import awswrangler as wr',\n",
       " 'import plotly.express as px',\n",
       " 'from pyspark import SparkContext',\n",
       " 'from sklearn.preprocessing import MinMaxScaler',\n",
       " 'import fbprophet',\n",
       " 'import statsmodels.api as sm',\n",
       " 'import cv2',\n",
       " 'from sklearn.ensemble import GradientBoostingClassifier',\n",
       " 'import datetime as dt',\n",
       " 'import glob',\n",
       " 'from sklearn.model_selection import train_test_split',\n",
       " 'from sklearn.linear_model import RidgeCV',\n",
       " 'import fastai',\n",
       " 'from sklearn.preprocessing import RobustScaler',\n",
       " 'from sklearn.preprocessing import PolynomialFeatures',\n",
       " 'from sklearn.cluster import KMeans',\n",
       " 'import plotly as py',\n",
       " 'from sklearn.model_selection import KFold',\n",
       " 'import skimage',\n",
       " 'import plotly.graph_objs as go',\n",
       " 'import tqdm',\n",
       " 'import torch',\n",
       " 'import pydot',\n",
       " 'from sklearn.preprocessing import LabelEncoder',\n",
       " 'from sklearn.linear_model import Lasso',\n",
       " 'import textblob',\n",
       " 'import seaborn as sns',\n",
       " 'from sklearn.linear_model import LassoCV',\n",
       " 'from openpyxl import load_workbook',\n",
       " 'import sklearn',\n",
       " 'from sklearn.model_selection import GridSearchCV',\n",
       " 'from sklearn.linear_model import LogisticRegression',\n",
       " 'import nltk',\n",
       " 'from sklearn.linear_model import LinearRegression',\n",
       " 'from sklearn.decomposition import PCA',\n",
       " 'from sklearn.ensemble import GradientBoostingRegressor',\n",
       " 'from scipy import stats',\n",
       " 'from sklearn import metrics',\n",
       " 'import statistics',\n",
       " 'from sklearn.model_selection import StratifiedKFold',\n",
       " 'import xgboost as xgb',\n",
       " 'from sklearn.model_selection import RandomizedSearchCV',\n",
       " 'import re',\n",
       " 'import gensim',\n",
       " 'import imutils',\n",
       " 'import keras',\n",
       " 'import os',\n",
       " 'import numpy as np',\n",
       " 'from sklearn.linear_model import ElasticNetCV',\n",
       " 'import tensorflow as tf',\n",
       " 'from statsmodels.tsa.arima_model import ARIMA',\n",
       " 'from pathlib import Path',\n",
       " 'from sklearn.feature_extraction.text import CountVectorizer',\n",
       " 'import pandas as pd',\n",
       " 'import pickle',\n",
       " 'import altair as alt',\n",
       " 'from sklearn.linear_model import ElasticNet',\n",
       " 'from sklearn.model_selection import cross_val_score',\n",
       " 'from sklearn.preprocessing import OneHotEncoder']"
      ]
     },
     "execution_count": 4,
     "metadata": {},
     "output_type": "execute_result"
    }
   ],
   "source": [
    "from pyforest import *\n",
    "lazy_imports()"
   ]
  },
  {
   "cell_type": "code",
   "execution_count": null,
   "metadata": {},
   "outputs": [],
   "source": []
  }
 ],
 "metadata": {
  "kernelspec": {
   "display_name": "Python 3",
   "language": "python",
   "name": "python3"
  },
  "language_info": {
   "codemirror_mode": {
    "name": "ipython",
    "version": 3
   },
   "file_extension": ".py",
   "mimetype": "text/x-python",
   "name": "python",
   "nbconvert_exporter": "python",
   "pygments_lexer": "ipython3",
   "version": "3.8.3"
  },
  "toc": {
   "base_numbering": 1,
   "nav_menu": {},
   "number_sections": true,
   "sideBar": true,
   "skip_h1_title": false,
   "title_cell": "Table of Contents",
   "title_sidebar": "Contents",
   "toc_cell": false,
   "toc_position": {},
   "toc_section_display": true,
   "toc_window_display": false
  }
 },
 "nbformat": 4,
 "nbformat_minor": 4
}
