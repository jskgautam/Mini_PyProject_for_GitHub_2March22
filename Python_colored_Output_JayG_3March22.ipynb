{
 "cells": [
  {
   "cell_type": "markdown",
   "metadata": {},
   "source": [
    "# Adding color to Python Output!!\n",
    "Author: Jay Gautam, Darmstadt, 3 March 2022."
   ]
  },
  {
   "cell_type": "markdown",
   "metadata": {},
   "source": [
    "Information about termcolor library: https://pypi.org/project/termcolor/\n",
    "\n",
    "Text colors:grey, red, green, yellow, blue, magenta, cyan, white\n",
    "\n",
    "Attributes (attrs):bold, dark, underline, blink, reverse, concealed\n",
    "\n",
    "Text highlights:on_grey, on_red, on_green, on_yellow, on_blue, on_magenta, on_cyan, on_white"
   ]
  },
  {
   "cell_type": "code",
   "execution_count": 119,
   "metadata": {},
   "outputs": [
    {
     "name": "stdout",
     "output_type": "stream",
     "text": [
      "Requirement already satisfied: termcolor in c:\\programdata\\anaconda3\\lib\\site-packages (1.1.0)\n",
      "Note: you may need to restart the kernel to use updated packages.\n"
     ]
    }
   ],
   "source": [
    "pip install termcolor"
   ]
  },
  {
   "cell_type": "code",
   "execution_count": 120,
   "metadata": {},
   "outputs": [],
   "source": [
    "from termcolor import colored"
   ]
  },
  {
   "cell_type": "code",
   "execution_count": 121,
   "metadata": {},
   "outputs": [
    {
     "name": "stdout",
     "output_type": "stream",
     "text": [
      "\u001b[35mYou have a beautiful heart!\u001b[0m\n",
      "\u001b[30mYou have a beautiful heart!\u001b[0m\n",
      "\u001b[8m\u001b[1m\u001b[31mYou have a beautiful heart!\u001b[0m\n",
      "\u001b[2m\u001b[4m\u001b[34mYou have a beautiful heart!\u001b[0m\n",
      "\u001b[1m\u001b[7m\u001b[32mYou have a beautiful heart!\u001b[0m\n"
     ]
    }
   ],
   "source": [
    "print(colored('You have a beautiful heart!', 'magenta'))\n",
    "text1 = colored('You have a beautiful heart!', 'grey')\n",
    "print(text1)\n",
    "\n",
    "text2 = colored('You have a beautiful heart!', 'red', attrs=['bold', 'concealed'])\n",
    "print(text2)\n",
    "\n",
    "text3 = colored('You have a beautiful heart!', 'blue', attrs=['underline', 'dark'])\n",
    "print(text3)\n",
    "\n",
    "text4 = colored('You have a beautiful heart!', 'green', attrs=['reverse', 'bold'])\n",
    "print(text4)"
   ]
  },
  {
   "cell_type": "code",
   "execution_count": null,
   "metadata": {},
   "outputs": [],
   "source": []
  },
  {
   "cell_type": "code",
   "execution_count": 122,
   "metadata": {},
   "outputs": [
    {
     "name": "stdout",
     "output_type": "stream",
     "text": [
      "\u001b[5m\u001b[7m\u001b[31mYou have a beautiful heart!\u001b[0m\n",
      "\u001b[41m\u001b[32mYou have a beautiful heart!\u001b[0m\n",
      "\u001b[40m\u001b[32mYou have a beautiful heart!\u001b[0m\n",
      "\u001b[46m\u001b[31mYou have a beautiful heart!\u001b[0m\n",
      "\u001b[41m\u001b[32mYou have a beautiful heart!\u001b[0m\n"
     ]
    }
   ],
   "source": [
    "text = colored('You have a beautiful heart!', 'red', attrs=['reverse', 'blink'])\n",
    "print(text)\n",
    "cprint('You have a beautiful heart!', 'green', 'on_red')\n",
    "cprint('You have a beautiful heart!', 'green', 'on_grey')\n",
    "\n",
    "print_red_on_cyan = lambda x: cprint(x, 'red', 'on_cyan')\n",
    "print_red_on_cyan('You have a beautiful heart!')\n",
    "\n",
    "print_red_on_cyan = lambda x: cprint(x, 'green', 'on_red')\n",
    "print_red_on_cyan('You have a beautiful heart!')"
   ]
  },
  {
   "cell_type": "code",
   "execution_count": 123,
   "metadata": {},
   "outputs": [
    {
     "name": "stdout",
     "output_type": "stream",
     "text": [
      "Print anything in color using for loop:\n",
      "\u001b[35mYou are amazing! \n",
      "\u001b[0m \u001b[35mYou are amazing! \n",
      "\u001b[0m \u001b[35mYou are amazing! \n",
      "\u001b[0m "
     ]
    }
   ],
   "source": [
    "print('Print anything in color using for loop:')\n",
    "for i in range(3):\n",
    "    cprint(\"You are amazing! \\n\", 'magenta', end=' ')"
   ]
  },
  {
   "cell_type": "code",
   "execution_count": null,
   "metadata": {},
   "outputs": [],
   "source": []
  }
 ],
 "metadata": {
  "kernelspec": {
   "display_name": "Python 3",
   "language": "python",
   "name": "python3"
  },
  "language_info": {
   "codemirror_mode": {
    "name": "ipython",
    "version": 3
   },
   "file_extension": ".py",
   "mimetype": "text/x-python",
   "name": "python",
   "nbconvert_exporter": "python",
   "pygments_lexer": "ipython3",
   "version": "3.8.3"
  },
  "toc": {
   "base_numbering": 1,
   "nav_menu": {},
   "number_sections": true,
   "sideBar": true,
   "skip_h1_title": false,
   "title_cell": "Table of Contents",
   "title_sidebar": "Contents",
   "toc_cell": false,
   "toc_position": {},
   "toc_section_display": true,
   "toc_window_display": false
  }
 },
 "nbformat": 4,
 "nbformat_minor": 4
}
