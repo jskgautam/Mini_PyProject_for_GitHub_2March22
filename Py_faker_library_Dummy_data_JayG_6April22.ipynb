{
 "cells": [
  {
   "cell_type": "markdown",
   "metadata": {},
   "source": [
    "## Python \"faker\" library - To generate dummy (fake) data (gennder and country specific) for data science experient."
   ]
  },
  {
   "cell_type": "markdown",
   "metadata": {},
   "source": [
    "<b> Author: Jay Gautam, Darmstadt, Germany.\\\n",
    "    library information: https://faker.readthedocs.io/en/master/"
   ]
  },
  {
   "cell_type": "code",
   "execution_count": 98,
   "metadata": {
    "scrolled": true
   },
   "outputs": [],
   "source": [
    "!pip3 install Faker\n",
    "!pip3 install Dumper\n",
    "# pip install Faker\n",
    "# pip install Dumper"
   ]
  },
  {
   "cell_type": "code",
   "execution_count": 29,
   "metadata": {},
   "outputs": [],
   "source": [
    "from faker import Faker\n",
    "dummy_data = Faker()"
   ]
  },
  {
   "cell_type": "markdown",
   "metadata": {},
   "source": [
    "### Several dummy data. Including gender specific data."
   ]
  },
  {
   "cell_type": "code",
   "execution_count": 100,
   "metadata": {
    "scrolled": true
   },
   "outputs": [
    {
     "name": "stdout",
     "output_type": "stream",
     "text": [
      "Dummy name:\n",
      "Name: Danielle Morales\n",
      "\n",
      "Dummy first and last name:\n",
      "First Name: Stephen\n",
      "Last Name: Castillo\n",
      "\n",
      "Dummy Female name:\n",
      "Female name: Chelsea Dougherty\n",
      "Female first Name: Amanda\n",
      "Female last Name: Glover\n",
      "\n",
      "Dummy Male name:\n",
      "Male name: Jonathan Dominguez\n",
      "Male first Name: Bryan\n",
      "Male last Name: Gardner\n",
      "\n",
      "Dummy Date of birth:\n",
      "Date of Birth: 1983-12-19\n",
      "\n",
      "Dummy Job:\n",
      "Job: Medical illustrator\n",
      "\n",
      "Dummy Email- different types:\n",
      "E-mail: andrewshea@example.com\n",
      "Company email: qmartinez@curry.info\n",
      "Safe email: christopherwhite@example.net\n",
      "Free email: jose40@yahoo.com\n",
      "\n",
      "Dummy address:\n",
      "Address: 5933 Johnson Falls\n",
      "West Valerie, TN 05944\n",
      "\n",
      "Dummy Phone number:\n",
      "Phone number: +1-388-319-1854x84267\n",
      "\n",
      "Dummy word and text:\n",
      "Dummy word: rich\n",
      "Dummy Text: Challenge decade authority office Mrs why degree. Many business per after skin PM smile.\n",
      "Economic reason nice personal under. Drop go individual explain player.\n"
     ]
    }
   ],
   "source": [
    "# Dummy name\n",
    "print(\"Dummy name:\")\n",
    "print(f\"Name: {dummy_data.name()}\")\n",
    "\n",
    "# Dummy first and last name\n",
    "print(\"\\nDummy first and last name:\")\n",
    "print(f\"First Name: {dummy_data.first_name()}\")\n",
    "print(f\"Last Name: {dummy_data.last_name()}\")\n",
    "\n",
    "# dummy Female name\n",
    "print(\"\\nDummy Female name:\")\n",
    "print(f\"Female name: {dummy_data.name_female()}\")\n",
    "print(f\"Female first Name: {dummy_data.first_name_female()}\")\n",
    "print(f\"Female last Name: {dummy_data.last_name_female()}\")\n",
    "\n",
    "# dummy Male name\n",
    "print(\"\\nDummy Male name:\")\n",
    "print(f\"Male name: {dummy_data.name_male()}\")\n",
    "print(f\"Male first Name: {dummy_data.first_name_male()}\")\n",
    "print(f\"Male last Name: {dummy_data.last_name_male()}\")\n",
    "\n",
    "# Dummy Date of birth\n",
    "print(\"\\nDummy Date of birth:\")\n",
    "print(f\"Date of Birth: {dummy_data.date_of_birth()}\")\n",
    "\n",
    "# Dummy Job\n",
    "print(\"\\nDummy Job:\")\n",
    "print(f\"Job: {dummy_data.job()}\")\n",
    "\n",
    "# Dummy Email- different types.\n",
    "print(\"\\nDummy Email- different types:\")\n",
    "print(f\"E-mail: {dummy_data.email()}\")\n",
    "print(f'Company email: {dummy_data.company_email()}')\n",
    "print(f'Safe email: {dummy_data.safe_email()}')\n",
    "print(f'Free email: {dummy_data.free_email()}')\n",
    "\n",
    "# Dummy address\n",
    "print(\"\\nDummy address:\")\n",
    "print(f\"Address: {dummy_data.address()}\")\n",
    "\n",
    "# Dummy Phone number\n",
    "print(\"\\nDummy Phone number:\")\n",
    "print(f\"Phone number: {dummy_data.phone_number()}\")\n",
    "\n",
    "# Dummy word and text.\n",
    "print(\"\\nDummy word and text:\")\n",
    "print(f\"Dummy word: {dummy_data.word()}\")\n",
    "print(f\"Dummy Text: {dummy_data.text()}\")"
   ]
  },
  {
   "cell_type": "code",
   "execution_count": 93,
   "metadata": {},
   "outputs": [
    {
     "name": "stdout",
     "output_type": "stream",
     "text": [
      "1.    Name: Scott Dean,    Date of birth: 1923-10-10,    Phone number: 995-513-0206\n",
      "2.    Name: Beth Klein,    Date of birth: 2018-09-25,    Phone number: +1-802-627-1772\n",
      "3.    Name: Brandon Fields,    Date of birth: 1939-03-17,    Phone number: 680-327-1746x8913\n"
     ]
    }
   ],
   "source": [
    "for i in range(3):\n",
    "    print(f\"{i+1}.\\\n",
    "    Name: {fake_data.name()},\\\n",
    "    Date of birth: {dummy_data.date_of_birth()},\\\n",
    "    Phone number: {dummy_data.phone_number()}\")    "
   ]
  },
  {
   "cell_type": "markdown",
   "metadata": {},
   "source": [
    "### Local Data- (for example: data from Germany)"
   ]
  },
  {
   "cell_type": "code",
   "execution_count": 83,
   "metadata": {},
   "outputs": [
    {
     "name": "stdout",
     "output_type": "stream",
     "text": [
      "1. Name: Corinne Döring\n",
      "Phone: 05683 90595\n",
      "Address: Bachmannplatz 4\n",
      "09256 Bad Freienwalde\n",
      "\n",
      "2. Name: Jenny Holzapfel\n",
      "Phone: 03580 72477\n",
      "Address: Anto-Rudolph-Allee 222\n",
      "23106 Magdeburg\n",
      "\n",
      "3. Name: Gabriella Schmidt\n",
      "Phone: 01428 592901\n",
      "Address: Scheibering 9/8\n",
      "89676 Meiningen\n",
      "\n"
     ]
    }
   ],
   "source": [
    "# Dummy data from Germany\n",
    "faker = Faker('de_DE')\n",
    "\n",
    "for i in range(3):\n",
    "    print(f'{i+1}. Name: {faker.name()}\\nPhone: {faker.phone_number()}\\nAddress: {faker.address()}\\n')"
   ]
  },
  {
   "cell_type": "markdown",
   "metadata": {},
   "source": [
    "### Dummy Profile of Male and Female."
   ]
  },
  {
   "cell_type": "code",
   "execution_count": 97,
   "metadata": {
    "scrolled": true
   },
   "outputs": [
    {
     "name": "stdout",
     "output_type": "stream",
     "text": [
      "General simple format of profile:\n",
      "<dict at 0x217f42708c0>:\n",
      "  username: 'vatzler'\n",
      "  name: 'Dipl.-Ing. Luise Knappe B.Eng.'\n",
      "  sex: 'F'\n",
      "  address: 'Ellen-Bauer-Gasse 8\\n28007 Greifswald'\n",
      "  mail: 'conradifred@gmx.de'\n",
      "  birthdate: <str at 0x217f6ca8d50>: 'datetime.date(1957, 6, 4)'\n",
      "\n",
      "General simple format of Male profile:\n",
      "<dict at 0x217f6cb7840>:\n",
      "  username: 'suessebierantonio'\n",
      "  name: 'Klaus-Dieter Eberth-Reuter'\n",
      "  sex: 'M'\n",
      "  address: 'Mentzelgasse 226\\n41811 Husum'\n",
      "  mail: 'harloffgertrud@aol.de'\n",
      "  birthdate: <str at 0x217f6ca8800>: 'datetime.date(1906, 9, 19)'\n",
      "\n",
      "General simple format of Female profile:\n",
      "<dict at 0x217f6c75180>:\n",
      "  username: 'nadeschda33'\n",
      "  name: 'Frau Claire Kusch B.Sc.'\n",
      "  sex: 'F'\n",
      "  address: 'Andres-Kambs-Allee 2\\n12577 Genthin'\n",
      "  mail: 'arturbauer@gmx.de'\n",
      "  birthdate: <str at 0x217f6ca9620>: 'datetime.date(1989, 8, 16)'\n",
      "\n",
      "General Female profile:\n",
      "<dict at 0x217f6cb6740>:\n",
      "  job: 'Forstwirt'\n",
      "  company: 'Rudolph'\n",
      "  ssn: '552-61-8351'\n",
      "  residence: 'Heßstr. 5/0\\n29351 Rosenheim'\n",
      "  current_location: <tuple at 0x217f421ec00>\n",
      "    0: <str at 0x217f6c57300>: \"Decimal('23.0467375')\"\n",
      "    1: <str at 0x217f6c57300>: \"Decimal('-89.990247')\"\n",
      "  blood_group: 'A-'\n",
      "  website: ['http://www.ernst.com/']\n",
      "  username: 'tomaszjaentsch'\n",
      "  name: 'Janet Hövel'\n",
      "  sex: 'F'\n",
      "  address: 'Martinallee 65\\n84849 Badoberan'\n",
      "  mail: 'ggeisler@googlemail.com'\n",
      "  birthdate: <str at 0x217f6c57120>: 'datetime.date(1940, 2, 28)'\n",
      "\n",
      "General Male profile:\n",
      "<dict at 0x217f6c8fd00>:\n",
      "  job: 'Arzt'\n",
      "  company: 'Schenk GmbH'\n",
      "  ssn: '257-07-5546'\n",
      "  residence: 'Fatih-Rosenow-Allee 1\\n01109 Pfaffenhofen an der Ilm'\n",
      "  current_location: <tuple at 0x217f421a480>\n",
      "    0: <str at 0x217f6c93490>: \"Decimal('-46.4049175')\"\n",
      "    1: <str at 0x217f6c93490>: \"Decimal('-170.892985')\"\n",
      "  blood_group: 'O-'\n",
      "  website: ['http://www.fischer.net/', 'http://www.wirth.com/']\n",
      "  username: 'schoenlandclaere'\n",
      "  name: 'Mato Stumpf'\n",
      "  sex: 'M'\n",
      "  address: 'Petar-Gumprich-Straße 8/7\\n76976 Coburg'\n",
      "  mail: 'schuchhardtfreddy@yahoo.de'\n",
      "  birthdate: <str at 0x217f6ca9bc0>: 'datetime.date(1928, 8, 3)'\n"
     ]
    }
   ],
   "source": [
    "from faker import Faker\n",
    "import dumper\n",
    "\n",
    "dummy_data = Faker()\n",
    "\n",
    "# General simple format of profile.\n",
    "print(\"General simple format of profile:\")\n",
    "dummy_data1 = faker.simple_profile()\n",
    "dumper.dump(dummy_data1)\n",
    "\n",
    "print('\\nGeneral simple format of Male profile:')\n",
    "dummy_data2 = faker.simple_profile('M')\n",
    "dumper.dump(dummy_data2)\n",
    "\n",
    "print('\\nGeneral simple format of Female profile:')\n",
    "dummy_data3 = faker.simple_profile('F')\n",
    "dumper.dump(dummy_data3)\n",
    "\n",
    "\n",
    "print('\\nGeneral Female profile:')\n",
    "dummy_data4 = faker.profile(sex='F')\n",
    "dumper.dump(dummy_data4)\n",
    "\n",
    "print('\\nGeneral Male profile:')\n",
    "dummy_data5 = faker.profile(sex='M')\n",
    "dumper.dump(dummy_data5)"
   ]
  }
 ],
 "metadata": {
  "kernelspec": {
   "display_name": "Python 3",
   "language": "python",
   "name": "python3"
  },
  "language_info": {
   "codemirror_mode": {
    "name": "ipython",
    "version": 3
   },
   "file_extension": ".py",
   "mimetype": "text/x-python",
   "name": "python",
   "nbconvert_exporter": "python",
   "pygments_lexer": "ipython3",
   "version": "3.8.3"
  },
  "toc": {
   "base_numbering": 1,
   "nav_menu": {},
   "number_sections": true,
   "sideBar": true,
   "skip_h1_title": false,
   "title_cell": "Table of Contents",
   "title_sidebar": "Contents",
   "toc_cell": false,
   "toc_position": {},
   "toc_section_display": true,
   "toc_window_display": false
  }
 },
 "nbformat": 4,
 "nbformat_minor": 4
}
