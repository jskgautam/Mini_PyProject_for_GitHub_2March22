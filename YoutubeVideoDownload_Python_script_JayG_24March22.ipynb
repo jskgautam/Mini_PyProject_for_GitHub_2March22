{
 "cells": [
  {
   "cell_type": "markdown",
   "metadata": {},
   "source": [
    "<b> Author: Jay Gautam, Darmstadt Germany. \\\n",
    "<b> Please download python file from my Github(Link on LinkediN)"
   ]
  },
  {
   "cell_type": "code",
   "execution_count": 1,
   "metadata": {},
   "outputs": [
    {
     "name": "stdout",
     "output_type": "stream",
     "text": [
      "Requirement already satisfied: pytube in c:\\programdata\\anaconda3\\lib\\site-packages (12.0.0)\n"
     ]
    }
   ],
   "source": [
    "# Use eithe rof it to install pytube library, depending on your setup.\n",
    "\n",
    "!pip3 install pytube\n",
    "# pip install pytube"
   ]
  },
  {
   "cell_type": "code",
   "execution_count": 2,
   "metadata": {},
   "outputs": [
    {
     "data": {
      "text/plain": [
       "'D:\\\\PyPr_1Jan22\\\\Misc_Jay_27Feb22\\\\PdfToAudio\\\\Elon Musk calls lack of AI oversight insane says its more dangerous than nukes.mp4'"
      ]
     },
     "execution_count": 2,
     "metadata": {},
     "output_type": "execute_result"
    }
   ],
   "source": [
    "import pytube\n",
    "\n",
    "youtube_url = 'https://www.youtube.com/watch?v=5taE_br3Vr8'\n",
    "\n",
    "youtube = pytube.YouTube(youtube_url)\n",
    "#video = youtube.streams.first() # To download with low quality video\n",
    "video = youtube.streams.get_highest_resolution()  # To download with highest quality video\n",
    "video.download() # video will be saved to the same folder.\n",
    "# video.download('mentionPath') # video will be saved to the specified location."
   ]
  },
  {
   "cell_type": "code",
   "execution_count": null,
   "metadata": {},
   "outputs": [],
   "source": []
  }
 ],
 "metadata": {
  "kernelspec": {
   "display_name": "Python 3",
   "language": "python",
   "name": "python3"
  },
  "language_info": {
   "codemirror_mode": {
    "name": "ipython",
    "version": 3
   },
   "file_extension": ".py",
   "mimetype": "text/x-python",
   "name": "python",
   "nbconvert_exporter": "python",
   "pygments_lexer": "ipython3",
   "version": "3.8.3"
  },
  "toc": {
   "base_numbering": 1,
   "nav_menu": {},
   "number_sections": true,
   "sideBar": true,
   "skip_h1_title": false,
   "title_cell": "Table of Contents",
   "title_sidebar": "Contents",
   "toc_cell": false,
   "toc_position": {},
   "toc_section_display": true,
   "toc_window_display": false
  }
 },
 "nbformat": 4,
 "nbformat_minor": 4
}
